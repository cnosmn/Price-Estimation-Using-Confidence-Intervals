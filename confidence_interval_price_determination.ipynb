{
 "cells": [
  {
   "cell_type": "markdown",
   "id": "55e736f2",
   "metadata": {},
   "source": [
    "fiyat strateji belirleme :\n",
    "    \n",
    "bir magaza yeni urunune fiyat belirlemek icin 1000 adet müsterisine urunu dagitiyor ve \n",
    "musterilere sizce ne kadar olsa bu urunu alırısınız diye musterilere soru soruyor, geri donus verileriyle \n",
    "fiyat belirlenmek isteniyor."
   ]
  },
  {
   "cell_type": "code",
   "execution_count": 2,
   "id": "63f76456",
   "metadata": {},
   "outputs": [
    {
     "name": "stdout",
     "output_type": "stream",
     "text": [
      "[29 72 33 83 88 11 64 89 36 35 78 22 13 68]\n"
     ]
    }
   ],
   "source": [
    "import numpy as np \n",
    "fiyatlar = np.random.randint(10,110,1000) #10-110 arası random sayilardan 100 adet uretilir\n",
    "\n",
    "print(fiyatlar[1:15])"
   ]
  },
  {
   "cell_type": "code",
   "execution_count": 5,
   "id": "488b4b00",
   "metadata": {},
   "outputs": [
    {
     "name": "stdout",
     "output_type": "stream",
     "text": [
      "<class 'pandas.core.frame.DataFrame'>\n",
      "RangeIndex: 1000 entries, 0 to 999\n",
      "Data columns (total 1 columns):\n",
      " #   Column  Non-Null Count  Dtype\n",
      "---  ------  --------------  -----\n",
      " 0   0       1000 non-null   int32\n",
      "dtypes: int32(1)\n",
      "memory usage: 4.0 KB\n"
     ]
    }
   ],
   "source": [
    "import seaborn as sb\n",
    "import pandas as pd\n",
    "fiyat_df=pd.DataFrame(fiyatlar)\n",
    "fiyat_df.info()\n",
    "#gorsellestirmek icin dataframe e donusturulur"
   ]
  },
  {
   "cell_type": "code",
   "execution_count": 6,
   "id": "dba13047",
   "metadata": {},
   "outputs": [
    {
     "data": {
      "text/plain": [
       "False"
      ]
     },
     "execution_count": 6,
     "metadata": {},
     "output_type": "execute_result"
    }
   ],
   "source": [
    "fiyat_df.isnull().values.any()\n",
    "#eksik veri kontrolu yapilir"
   ]
  },
  {
   "cell_type": "code",
   "execution_count": 14,
   "id": "1d66ac62",
   "metadata": {},
   "outputs": [],
   "source": [
    "fiyat_df.rename(columns = {0:'fiyatlar'}, inplace = True)\n",
    "#sutun ismi yeniden adlandirilir"
   ]
  },
  {
   "cell_type": "code",
   "execution_count": 15,
   "id": "f0111b68",
   "metadata": {},
   "outputs": [
    {
     "data": {
      "text/html": [
       "<div>\n",
       "<style scoped>\n",
       "    .dataframe tbody tr th:only-of-type {\n",
       "        vertical-align: middle;\n",
       "    }\n",
       "\n",
       "    .dataframe tbody tr th {\n",
       "        vertical-align: top;\n",
       "    }\n",
       "\n",
       "    .dataframe thead th {\n",
       "        text-align: right;\n",
       "    }\n",
       "</style>\n",
       "<table border=\"1\" class=\"dataframe\">\n",
       "  <thead>\n",
       "    <tr style=\"text-align: right;\">\n",
       "      <th></th>\n",
       "      <th>fiyatlar</th>\n",
       "    </tr>\n",
       "  </thead>\n",
       "  <tbody>\n",
       "    <tr>\n",
       "      <th>0</th>\n",
       "      <td>89</td>\n",
       "    </tr>\n",
       "    <tr>\n",
       "      <th>1</th>\n",
       "      <td>29</td>\n",
       "    </tr>\n",
       "    <tr>\n",
       "      <th>2</th>\n",
       "      <td>72</td>\n",
       "    </tr>\n",
       "    <tr>\n",
       "      <th>3</th>\n",
       "      <td>33</td>\n",
       "    </tr>\n",
       "    <tr>\n",
       "      <th>4</th>\n",
       "      <td>83</td>\n",
       "    </tr>\n",
       "    <tr>\n",
       "      <th>5</th>\n",
       "      <td>88</td>\n",
       "    </tr>\n",
       "    <tr>\n",
       "      <th>6</th>\n",
       "      <td>11</td>\n",
       "    </tr>\n",
       "    <tr>\n",
       "      <th>7</th>\n",
       "      <td>64</td>\n",
       "    </tr>\n",
       "    <tr>\n",
       "      <th>8</th>\n",
       "      <td>89</td>\n",
       "    </tr>\n",
       "    <tr>\n",
       "      <th>9</th>\n",
       "      <td>36</td>\n",
       "    </tr>\n",
       "  </tbody>\n",
       "</table>\n",
       "</div>"
      ],
      "text/plain": [
       "   fiyatlar\n",
       "0        89\n",
       "1        29\n",
       "2        72\n",
       "3        33\n",
       "4        83\n",
       "5        88\n",
       "6        11\n",
       "7        64\n",
       "8        89\n",
       "9        36"
      ]
     },
     "execution_count": 15,
     "metadata": {},
     "output_type": "execute_result"
    }
   ],
   "source": [
    "fiyat_df.head(10)\n",
    "#ilk 10 veri gosterilir"
   ]
  },
  {
   "cell_type": "code",
   "execution_count": 18,
   "id": "60baee01",
   "metadata": {},
   "outputs": [
    {
     "data": {
      "image/png": "[encoded data removed]",
      "text/plain": [
       "<Figure size 432x288 with 1 Axes>"
      ]
     },
     "metadata": {
      "needs_background": "light"
     },
     "output_type": "display_data"
    }
   ],
   "source": [
    "sb.kdeplot(fiyat_df[\"fiyatlar\"],shade=True);\n",
    "#dagilim grafigi gosterilir"
   ]
  },
  {
   "cell_type": "code",
   "execution_count": 3,
   "id": "c197eb11",
   "metadata": {},
   "outputs": [
    {
     "data": {
      "text/plain": [
       "59.766"
      ]
     },
     "execution_count": 3,
     "metadata": {},
     "output_type": "execute_result"
    }
   ],
   "source": [
    "fiyatlar.mean()\n",
    "#veri setinin ortalamasi bulunur"
   ]
  },
  {
   "cell_type": "code",
   "execution_count": 4,
   "id": "c9a87057",
   "metadata": {},
   "outputs": [
    {
     "data": {
      "text/plain": [
       "(57.97129127810736, 61.56070872189264)"
      ]
     },
     "execution_count": 4,
     "metadata": {},
     "output_type": "execute_result"
    }
   ],
   "source": [
    "import statsmodels.stats.api as sms \n",
    "sms.DescrStatsW(fiyatlar).tconfint_mean()  # güven araligi bulunur\n"
   ]
  },
  {
   "cell_type": "markdown",
   "id": "686d1e0f",
   "metadata": {},
   "source": [
    "Eger 57 ile 61 degerleri arasinda fiyat belirlenirse alayi dusunen musterilerin %95 i bu urunu alicaktir"
   ]
  }
 ],
 "metadata": {
  "kernelspec": {
   "display_name": "Python 3 (ipykernel)",
   "language": "python",
   "name": "python3"
  },
  "language_info": {
   "codemirror_mode": {
    "name": "ipython",
    "version": 3
   },
   "file_extension": ".py",
   "mimetype": "text/x-python",
   "name": "python",
   "nbconvert_exporter": "python",
   "pygments_lexer": "ipython3",
   "version": "3.9.12"
  }
 },
 "nbformat": 4,
 "nbformat_minor": 5
}
